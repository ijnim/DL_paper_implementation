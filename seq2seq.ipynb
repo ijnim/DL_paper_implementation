{
  "cells": [
    {
      "cell_type": "markdown",
      "source": [
        "#seq2seq 실습 코드"
      ],
      "metadata": {
        "id": "K2L8KAXTYQHd"
      }
    },
    {
      "cell_type": "markdown",
      "source": [
        "###  병렬 코퍼스 데이터에 대한 이해와 전처리\n"
      ],
      "metadata": {
        "id": "eTnv2EaUYbAk"
      }
    },
    {
      "cell_type": "markdown",
      "source": [
        "fra.txt: 영어 문장과 프랑스어 문장 사이에 탭으로 구분되는 구조"
      ],
      "metadata": {
        "id": "o_DCRwYFZq4z"
      }
    },
    {
      "cell_type": "code",
      "source": [
        "import os\n",
        "import shutil\n",
        "import zipfile\n",
        "\n",
        "import pandas as pd\n",
        "import tensorflow as tf\n",
        "import urllib3\n",
        "from tensorflow.keras.preprocessing.sequence import pad_sequences\n",
        "from tensorflow.keras.utils import to_categorical"
      ],
      "metadata": {
        "id": "Vtc1Qqxsl9wx"
      },
      "execution_count": null,
      "outputs": []
    },
    {
      "cell_type": "code",
      "source": [
        "http = urllib3.PoolManager()\n",
        "url ='http://www.manythings.org/anki/fra-eng.zip'\n",
        "filename = 'fra-eng.zip'\n",
        "path = os.getcwd()\n",
        "zipfilename = os.path.join(path, filename)\n",
        "with http.request('GET', url, preload_content=False) as r, open(zipfilename, 'wb') as out_file:       \n",
        "    shutil.copyfileobj(r, out_file)\n",
        "\n",
        "with zipfile.ZipFile(zipfilename, 'r') as zip_ref:\n",
        "    zip_ref.extractall(path)"
      ],
      "metadata": {
        "id": "gq9zsA5Bl9z6"
      },
      "execution_count": null,
      "outputs": []
    },
    {
      "cell_type": "code",
      "source": [
        "lines = pd.read_csv('fra.txt', names=['src', 'tar', 'lic'], sep='\\t')\n",
        "del lines['lic']\n",
        "print('전체 샘플의 개수 :',len(lines))"
      ],
      "metadata": {
        "colab": {
          "base_uri": "https://localhost:8080/"
        },
        "id": "XgFd_7h7l92y",
        "outputId": "3e8b0344-1d83-4e88-a359-d7087f43bcf3"
      },
      "execution_count": null,
      "outputs": [
        {
          "output_type": "stream",
          "name": "stdout",
          "text": [
            "전체 샘플의 개수 : 194513\n"
          ]
        }
      ]
    },
    {
      "cell_type": "code",
      "source": [
        "lines = lines.loc[:, 'src':'tar']\n",
        "lines = lines[0:60000] # 6만개만 저장\n",
        "lines.sample(10)"
      ],
      "metadata": {
        "colab": {
          "base_uri": "https://localhost:8080/",
          "height": 363
        },
        "id": "j64PMmeBl95c",
        "outputId": "1b5e0327-f549-4b32-c88f-acb5a500fe9e"
      },
      "execution_count": null,
      "outputs": [
        {
          "output_type": "execute_result",
          "data": {
            "text/plain": [
              "                         src                           tar\n",
              "7100          I am homesick.          J'ai le mal du pays.\n",
              "42050  I have a brain tumor.    J'ai une tumeur cérébrale.\n",
              "38872   Turn down the music.           Baisse la musique !\n",
              "1400              Seriously?                    Vraiment ?\n",
              "42633  I think you're right.    Je crois que tu as raison.\n",
              "12547        What a letdown!            Quelle déception !\n",
              "35400   I didn't order rice.  Je n'ai pas commandé de riz.\n",
              "30300    I'm going to flunk.           Je vais me planter.\n",
              "191                 Burn it.                    Brûlez-la.\n",
              "24954     It's kind of hard.             C'est plutôt dur."
            ],
            "text/html": [
              "\n",
              "  <div id=\"df-b5feb54a-9b17-4658-9fb8-17e7eace6fbe\">\n",
              "    <div class=\"colab-df-container\">\n",
              "      <div>\n",
              "<style scoped>\n",
              "    .dataframe tbody tr th:only-of-type {\n",
              "        vertical-align: middle;\n",
              "    }\n",
              "\n",
              "    .dataframe tbody tr th {\n",
              "        vertical-align: top;\n",
              "    }\n",
              "\n",
              "    .dataframe thead th {\n",
              "        text-align: right;\n",
              "    }\n",
              "</style>\n",
              "<table border=\"1\" class=\"dataframe\">\n",
              "  <thead>\n",
              "    <tr style=\"text-align: right;\">\n",
              "      <th></th>\n",
              "      <th>src</th>\n",
              "      <th>tar</th>\n",
              "    </tr>\n",
              "  </thead>\n",
              "  <tbody>\n",
              "    <tr>\n",
              "      <th>7100</th>\n",
              "      <td>I am homesick.</td>\n",
              "      <td>J'ai le mal du pays.</td>\n",
              "    </tr>\n",
              "    <tr>\n",
              "      <th>42050</th>\n",
              "      <td>I have a brain tumor.</td>\n",
              "      <td>J'ai une tumeur cérébrale.</td>\n",
              "    </tr>\n",
              "    <tr>\n",
              "      <th>38872</th>\n",
              "      <td>Turn down the music.</td>\n",
              "      <td>Baisse la musique !</td>\n",
              "    </tr>\n",
              "    <tr>\n",
              "      <th>1400</th>\n",
              "      <td>Seriously?</td>\n",
              "      <td>Vraiment ?</td>\n",
              "    </tr>\n",
              "    <tr>\n",
              "      <th>42633</th>\n",
              "      <td>I think you're right.</td>\n",
              "      <td>Je crois que tu as raison.</td>\n",
              "    </tr>\n",
              "    <tr>\n",
              "      <th>12547</th>\n",
              "      <td>What a letdown!</td>\n",
              "      <td>Quelle déception !</td>\n",
              "    </tr>\n",
              "    <tr>\n",
              "      <th>35400</th>\n",
              "      <td>I didn't order rice.</td>\n",
              "      <td>Je n'ai pas commandé de riz.</td>\n",
              "    </tr>\n",
              "    <tr>\n",
              "      <th>30300</th>\n",
              "      <td>I'm going to flunk.</td>\n",
              "      <td>Je vais me planter.</td>\n",
              "    </tr>\n",
              "    <tr>\n",
              "      <th>191</th>\n",
              "      <td>Burn it.</td>\n",
              "      <td>Brûlez-la.</td>\n",
              "    </tr>\n",
              "    <tr>\n",
              "      <th>24954</th>\n",
              "      <td>It's kind of hard.</td>\n",
              "      <td>C'est plutôt dur.</td>\n",
              "    </tr>\n",
              "  </tbody>\n",
              "</table>\n",
              "</div>\n",
              "      <button class=\"colab-df-convert\" onclick=\"convertToInteractive('df-b5feb54a-9b17-4658-9fb8-17e7eace6fbe')\"\n",
              "              title=\"Convert this dataframe to an interactive table.\"\n",
              "              style=\"display:none;\">\n",
              "        \n",
              "  <svg xmlns=\"http://www.w3.org/2000/svg\" height=\"24px\"viewBox=\"0 0 24 24\"\n",
              "       width=\"24px\">\n",
              "    <path d=\"M0 0h24v24H0V0z\" fill=\"none\"/>\n",
              "    <path d=\"M18.56 5.44l.94 2.06.94-2.06 2.06-.94-2.06-.94-.94-2.06-.94 2.06-2.06.94zm-11 1L8.5 8.5l.94-2.06 2.06-.94-2.06-.94L8.5 2.5l-.94 2.06-2.06.94zm10 10l.94 2.06.94-2.06 2.06-.94-2.06-.94-.94-2.06-.94 2.06-2.06.94z\"/><path d=\"M17.41 7.96l-1.37-1.37c-.4-.4-.92-.59-1.43-.59-.52 0-1.04.2-1.43.59L10.3 9.45l-7.72 7.72c-.78.78-.78 2.05 0 2.83L4 21.41c.39.39.9.59 1.41.59.51 0 1.02-.2 1.41-.59l7.78-7.78 2.81-2.81c.8-.78.8-2.07 0-2.86zM5.41 20L4 18.59l7.72-7.72 1.47 1.35L5.41 20z\"/>\n",
              "  </svg>\n",
              "      </button>\n",
              "      \n",
              "  <style>\n",
              "    .colab-df-container {\n",
              "      display:flex;\n",
              "      flex-wrap:wrap;\n",
              "      gap: 12px;\n",
              "    }\n",
              "\n",
              "    .colab-df-convert {\n",
              "      background-color: #E8F0FE;\n",
              "      border: none;\n",
              "      border-radius: 50%;\n",
              "      cursor: pointer;\n",
              "      display: none;\n",
              "      fill: #1967D2;\n",
              "      height: 32px;\n",
              "      padding: 0 0 0 0;\n",
              "      width: 32px;\n",
              "    }\n",
              "\n",
              "    .colab-df-convert:hover {\n",
              "      background-color: #E2EBFA;\n",
              "      box-shadow: 0px 1px 2px rgba(60, 64, 67, 0.3), 0px 1px 3px 1px rgba(60, 64, 67, 0.15);\n",
              "      fill: #174EA6;\n",
              "    }\n",
              "\n",
              "    [theme=dark] .colab-df-convert {\n",
              "      background-color: #3B4455;\n",
              "      fill: #D2E3FC;\n",
              "    }\n",
              "\n",
              "    [theme=dark] .colab-df-convert:hover {\n",
              "      background-color: #434B5C;\n",
              "      box-shadow: 0px 1px 3px 1px rgba(0, 0, 0, 0.15);\n",
              "      filter: drop-shadow(0px 1px 2px rgba(0, 0, 0, 0.3));\n",
              "      fill: #FFFFFF;\n",
              "    }\n",
              "  </style>\n",
              "\n",
              "      <script>\n",
              "        const buttonEl =\n",
              "          document.querySelector('#df-b5feb54a-9b17-4658-9fb8-17e7eace6fbe button.colab-df-convert');\n",
              "        buttonEl.style.display =\n",
              "          google.colab.kernel.accessAllowed ? 'block' : 'none';\n",
              "\n",
              "        async function convertToInteractive(key) {\n",
              "          const element = document.querySelector('#df-b5feb54a-9b17-4658-9fb8-17e7eace6fbe');\n",
              "          const dataTable =\n",
              "            await google.colab.kernel.invokeFunction('convertToInteractive',\n",
              "                                                     [key], {});\n",
              "          if (!dataTable) return;\n",
              "\n",
              "          const docLinkHtml = 'Like what you see? Visit the ' +\n",
              "            '<a target=\"_blank\" href=https://colab.research.google.com/notebooks/data_table.ipynb>data table notebook</a>'\n",
              "            + ' to learn more about interactive tables.';\n",
              "          element.innerHTML = '';\n",
              "          dataTable['output_type'] = 'display_data';\n",
              "          await google.colab.output.renderOutput(dataTable, element);\n",
              "          const docLink = document.createElement('div');\n",
              "          docLink.innerHTML = docLinkHtml;\n",
              "          element.appendChild(docLink);\n",
              "        }\n",
              "      </script>\n",
              "    </div>\n",
              "  </div>\n",
              "  "
            ]
          },
          "metadata": {},
          "execution_count": 10
        }
      ]
    },
    {
      "cell_type": "code",
      "source": [
        "lines.tar = lines.tar.apply(lambda x : '\\t '+ x + ' \\n')  ##target에 \\t, \\n을 <sos> 와 <eos> 대신 추가\n",
        "lines.sample(10)"
      ],
      "metadata": {
        "colab": {
          "base_uri": "https://localhost:8080/",
          "height": 363
        },
        "id": "2Ot-iDQ9mGRS",
        "outputId": "e563e8f4-d44e-4a69-fb4d-d4146df65afb"
      },
      "execution_count": null,
      "outputs": [
        {
          "output_type": "execute_result",
          "data": {
            "text/plain": [
              "                           src                                            tar\n",
              "21416        We'll follow Tom.                       \\t Nous suivrons Tom. \\n\n",
              "36121     I used to play here.                           \\t Je jouais ici. \\n\n",
              "56630  I used to keep a diary.  \\t J'avais l'habitude de tenir un journal. \\n\n",
              "40848    Don't worry about it!                       \\t Ne t'en fais pas ! \\n\n",
              "13674         He's not a hero.                   \\t Ce n'est pas un héros. \\n\n",
              "36206     I was having doubts.                   \\t J'étais pris de doute. \\n\n",
              "13643         He went surfing.               \\t Il est allé faire du surf. \\n\n",
              "28877      He lied to my face.               \\t Il m'a menti effrontément. \\n\n",
              "29163      How would you know?                  \\t Comment le saurais-tu ? \\n\n",
              "13256         Dig a deep hole.                  \\t Creuse un trou profond. \\n"
            ],
            "text/html": [
              "\n",
              "  <div id=\"df-8d4849f2-84b9-44fe-b5a8-590725ec237c\">\n",
              "    <div class=\"colab-df-container\">\n",
              "      <div>\n",
              "<style scoped>\n",
              "    .dataframe tbody tr th:only-of-type {\n",
              "        vertical-align: middle;\n",
              "    }\n",
              "\n",
              "    .dataframe tbody tr th {\n",
              "        vertical-align: top;\n",
              "    }\n",
              "\n",
              "    .dataframe thead th {\n",
              "        text-align: right;\n",
              "    }\n",
              "</style>\n",
              "<table border=\"1\" class=\"dataframe\">\n",
              "  <thead>\n",
              "    <tr style=\"text-align: right;\">\n",
              "      <th></th>\n",
              "      <th>src</th>\n",
              "      <th>tar</th>\n",
              "    </tr>\n",
              "  </thead>\n",
              "  <tbody>\n",
              "    <tr>\n",
              "      <th>21416</th>\n",
              "      <td>We'll follow Tom.</td>\n",
              "      <td>\\t Nous suivrons Tom. \\n</td>\n",
              "    </tr>\n",
              "    <tr>\n",
              "      <th>36121</th>\n",
              "      <td>I used to play here.</td>\n",
              "      <td>\\t Je jouais ici. \\n</td>\n",
              "    </tr>\n",
              "    <tr>\n",
              "      <th>56630</th>\n",
              "      <td>I used to keep a diary.</td>\n",
              "      <td>\\t J'avais l'habitude de tenir un journal. \\n</td>\n",
              "    </tr>\n",
              "    <tr>\n",
              "      <th>40848</th>\n",
              "      <td>Don't worry about it!</td>\n",
              "      <td>\\t Ne t'en fais pas ! \\n</td>\n",
              "    </tr>\n",
              "    <tr>\n",
              "      <th>13674</th>\n",
              "      <td>He's not a hero.</td>\n",
              "      <td>\\t Ce n'est pas un héros. \\n</td>\n",
              "    </tr>\n",
              "    <tr>\n",
              "      <th>36206</th>\n",
              "      <td>I was having doubts.</td>\n",
              "      <td>\\t J'étais pris de doute. \\n</td>\n",
              "    </tr>\n",
              "    <tr>\n",
              "      <th>13643</th>\n",
              "      <td>He went surfing.</td>\n",
              "      <td>\\t Il est allé faire du surf. \\n</td>\n",
              "    </tr>\n",
              "    <tr>\n",
              "      <th>28877</th>\n",
              "      <td>He lied to my face.</td>\n",
              "      <td>\\t Il m'a menti effrontément. \\n</td>\n",
              "    </tr>\n",
              "    <tr>\n",
              "      <th>29163</th>\n",
              "      <td>How would you know?</td>\n",
              "      <td>\\t Comment le saurais-tu ? \\n</td>\n",
              "    </tr>\n",
              "    <tr>\n",
              "      <th>13256</th>\n",
              "      <td>Dig a deep hole.</td>\n",
              "      <td>\\t Creuse un trou profond. \\n</td>\n",
              "    </tr>\n",
              "  </tbody>\n",
              "</table>\n",
              "</div>\n",
              "      <button class=\"colab-df-convert\" onclick=\"convertToInteractive('df-8d4849f2-84b9-44fe-b5a8-590725ec237c')\"\n",
              "              title=\"Convert this dataframe to an interactive table.\"\n",
              "              style=\"display:none;\">\n",
              "        \n",
              "  <svg xmlns=\"http://www.w3.org/2000/svg\" height=\"24px\"viewBox=\"0 0 24 24\"\n",
              "       width=\"24px\">\n",
              "    <path d=\"M0 0h24v24H0V0z\" fill=\"none\"/>\n",
              "    <path d=\"M18.56 5.44l.94 2.06.94-2.06 2.06-.94-2.06-.94-.94-2.06-.94 2.06-2.06.94zm-11 1L8.5 8.5l.94-2.06 2.06-.94-2.06-.94L8.5 2.5l-.94 2.06-2.06.94zm10 10l.94 2.06.94-2.06 2.06-.94-2.06-.94-.94-2.06-.94 2.06-2.06.94z\"/><path d=\"M17.41 7.96l-1.37-1.37c-.4-.4-.92-.59-1.43-.59-.52 0-1.04.2-1.43.59L10.3 9.45l-7.72 7.72c-.78.78-.78 2.05 0 2.83L4 21.41c.39.39.9.59 1.41.59.51 0 1.02-.2 1.41-.59l7.78-7.78 2.81-2.81c.8-.78.8-2.07 0-2.86zM5.41 20L4 18.59l7.72-7.72 1.47 1.35L5.41 20z\"/>\n",
              "  </svg>\n",
              "      </button>\n",
              "      \n",
              "  <style>\n",
              "    .colab-df-container {\n",
              "      display:flex;\n",
              "      flex-wrap:wrap;\n",
              "      gap: 12px;\n",
              "    }\n",
              "\n",
              "    .colab-df-convert {\n",
              "      background-color: #E8F0FE;\n",
              "      border: none;\n",
              "      border-radius: 50%;\n",
              "      cursor: pointer;\n",
              "      display: none;\n",
              "      fill: #1967D2;\n",
              "      height: 32px;\n",
              "      padding: 0 0 0 0;\n",
              "      width: 32px;\n",
              "    }\n",
              "\n",
              "    .colab-df-convert:hover {\n",
              "      background-color: #E2EBFA;\n",
              "      box-shadow: 0px 1px 2px rgba(60, 64, 67, 0.3), 0px 1px 3px 1px rgba(60, 64, 67, 0.15);\n",
              "      fill: #174EA6;\n",
              "    }\n",
              "\n",
              "    [theme=dark] .colab-df-convert {\n",
              "      background-color: #3B4455;\n",
              "      fill: #D2E3FC;\n",
              "    }\n",
              "\n",
              "    [theme=dark] .colab-df-convert:hover {\n",
              "      background-color: #434B5C;\n",
              "      box-shadow: 0px 1px 3px 1px rgba(0, 0, 0, 0.15);\n",
              "      filter: drop-shadow(0px 1px 2px rgba(0, 0, 0, 0.3));\n",
              "      fill: #FFFFFF;\n",
              "    }\n",
              "  </style>\n",
              "\n",
              "      <script>\n",
              "        const buttonEl =\n",
              "          document.querySelector('#df-8d4849f2-84b9-44fe-b5a8-590725ec237c button.colab-df-convert');\n",
              "        buttonEl.style.display =\n",
              "          google.colab.kernel.accessAllowed ? 'block' : 'none';\n",
              "\n",
              "        async function convertToInteractive(key) {\n",
              "          const element = document.querySelector('#df-8d4849f2-84b9-44fe-b5a8-590725ec237c');\n",
              "          const dataTable =\n",
              "            await google.colab.kernel.invokeFunction('convertToInteractive',\n",
              "                                                     [key], {});\n",
              "          if (!dataTable) return;\n",
              "\n",
              "          const docLinkHtml = 'Like what you see? Visit the ' +\n",
              "            '<a target=\"_blank\" href=https://colab.research.google.com/notebooks/data_table.ipynb>data table notebook</a>'\n",
              "            + ' to learn more about interactive tables.';\n",
              "          element.innerHTML = '';\n",
              "          dataTable['output_type'] = 'display_data';\n",
              "          await google.colab.output.renderOutput(dataTable, element);\n",
              "          const docLink = document.createElement('div');\n",
              "          docLink.innerHTML = docLinkHtml;\n",
              "          element.appendChild(docLink);\n",
              "        }\n",
              "      </script>\n",
              "    </div>\n",
              "  </div>\n",
              "  "
            ]
          },
          "metadata": {},
          "execution_count": 11
        }
      ]
    },
    {
      "cell_type": "code",
      "source": [
        "# 문자 집합 구축\n",
        "src_vocab = set()\n",
        "for line in lines.src: # 1줄씩 읽음\n",
        "    for char in line: # 1개의 문자씩 읽음\n",
        "        src_vocab.add(char)\n",
        "\n",
        "tar_vocab = set()\n",
        "for line in lines.tar:\n",
        "    for char in line:\n",
        "        tar_vocab.add(char)"
      ],
      "metadata": {
        "id": "Uv_h86LlmLuW"
      },
      "execution_count": null,
      "outputs": []
    },
    {
      "cell_type": "code",
      "source": [
        "src_vocab_size = len(src_vocab)+1\n",
        "tar_vocab_size = len(tar_vocab)+1\n",
        "print('source 문장의 char 집합 :',src_vocab_size) # 나오는 character 수\n",
        "print('target 문장의 char 집합 :',tar_vocab_size)"
      ],
      "metadata": {
        "colab": {
          "base_uri": "https://localhost:8080/"
        },
        "id": "HgNtB6OJmQh8",
        "outputId": "ff8deba5-8d29-484b-d8be-a6637ec07c36"
      },
      "execution_count": null,
      "outputs": [
        {
          "output_type": "stream",
          "name": "stdout",
          "text": [
            "source 문장의 char 집합 : 80\n",
            "target 문장의 char 집합 : 105\n"
          ]
        }
      ]
    },
    {
      "cell_type": "code",
      "source": [
        "src_vocab = sorted(list(src_vocab))\n",
        "tar_vocab = sorted(list(tar_vocab))\n",
        "print(src_vocab[45:75])\n",
        "print(tar_vocab[45:75])"
      ],
      "metadata": {
        "colab": {
          "base_uri": "https://localhost:8080/"
        },
        "id": "8G2G0BiKmSWS",
        "outputId": "729156a3-3b59-491a-8043-22235d55aa1d"
      },
      "execution_count": null,
      "outputs": [
        {
          "output_type": "stream",
          "name": "stdout",
          "text": [
            "['W', 'X', 'Y', 'Z', 'a', 'b', 'c', 'd', 'e', 'f', 'g', 'h', 'i', 'j', 'k', 'l', 'm', 'n', 'o', 'p', 'q', 'r', 's', 't', 'u', 'v', 'w', 'x', 'y', 'z']\n",
            "['T', 'U', 'V', 'W', 'X', 'Y', 'Z', 'a', 'b', 'c', 'd', 'e', 'f', 'g', 'h', 'i', 'j', 'k', 'l', 'm', 'n', 'o', 'p', 'q', 'r', 's', 't', 'u', 'v', 'w']\n"
          ]
        }
      ]
    },
    {
      "cell_type": "code",
      "source": [
        "src_to_index = dict([(word, i+1) for i, word in enumerate(src_vocab)])  # sourse와 target 문자 집합에 인덱스 부여\n",
        "tar_to_index = dict([(word, i+1) for i, word in enumerate(tar_vocab)])\n",
        "print(src_to_index)\n",
        "print(tar_to_index)"
      ],
      "metadata": {
        "colab": {
          "base_uri": "https://localhost:8080/"
        },
        "id": "_bDjrtgFmT89",
        "outputId": "75bfd048-5c2b-4d26-9bc8-b4530fb35115"
      },
      "execution_count": null,
      "outputs": [
        {
          "output_type": "stream",
          "name": "stdout",
          "text": [
            "{' ': 1, '!': 2, '\"': 3, '$': 4, '%': 5, '&': 6, \"'\": 7, ',': 8, '-': 9, '.': 10, '/': 11, '0': 12, '1': 13, '2': 14, '3': 15, '4': 16, '5': 17, '6': 18, '7': 19, '8': 20, '9': 21, ':': 22, '?': 23, 'A': 24, 'B': 25, 'C': 26, 'D': 27, 'E': 28, 'F': 29, 'G': 30, 'H': 31, 'I': 32, 'J': 33, 'K': 34, 'L': 35, 'M': 36, 'N': 37, 'O': 38, 'P': 39, 'Q': 40, 'R': 41, 'S': 42, 'T': 43, 'U': 44, 'V': 45, 'W': 46, 'X': 47, 'Y': 48, 'Z': 49, 'a': 50, 'b': 51, 'c': 52, 'd': 53, 'e': 54, 'f': 55, 'g': 56, 'h': 57, 'i': 58, 'j': 59, 'k': 60, 'l': 61, 'm': 62, 'n': 63, 'o': 64, 'p': 65, 'q': 66, 'r': 67, 's': 68, 't': 69, 'u': 70, 'v': 71, 'w': 72, 'x': 73, 'y': 74, 'z': 75, '°': 76, 'é': 77, '’': 78, '€': 79}\n",
            "{'\\t': 1, '\\n': 2, ' ': 3, '!': 4, '\"': 5, '$': 6, '%': 7, '&': 8, \"'\": 9, '(': 10, ')': 11, ',': 12, '-': 13, '.': 14, '0': 15, '1': 16, '2': 17, '3': 18, '4': 19, '5': 20, '6': 21, '7': 22, '8': 23, '9': 24, ':': 25, '?': 26, 'A': 27, 'B': 28, 'C': 29, 'D': 30, 'E': 31, 'F': 32, 'G': 33, 'H': 34, 'I': 35, 'J': 36, 'K': 37, 'L': 38, 'M': 39, 'N': 40, 'O': 41, 'P': 42, 'Q': 43, 'R': 44, 'S': 45, 'T': 46, 'U': 47, 'V': 48, 'W': 49, 'X': 50, 'Y': 51, 'Z': 52, 'a': 53, 'b': 54, 'c': 55, 'd': 56, 'e': 57, 'f': 58, 'g': 59, 'h': 60, 'i': 61, 'j': 62, 'k': 63, 'l': 64, 'm': 65, 'n': 66, 'o': 67, 'p': 68, 'q': 69, 'r': 70, 's': 71, 't': 72, 'u': 73, 'v': 74, 'w': 75, 'x': 76, 'y': 77, 'z': 78, '\\xa0': 79, '«': 80, '»': 81, 'À': 82, 'Ç': 83, 'É': 84, 'Ê': 85, 'Ô': 86, 'à': 87, 'â': 88, 'ç': 89, 'è': 90, 'é': 91, 'ê': 92, 'ë': 93, 'î': 94, 'ï': 95, 'ô': 96, 'ù': 97, 'û': 98, 'œ': 99, '\\u2009': 100, '\\u200b': 101, '‘': 102, '’': 103, '\\u202f': 104}\n"
          ]
        }
      ]
    },
    {
      "cell_type": "markdown",
      "source": [
        "영어 문장과 프랑스어 문장 데이터의 정수 인코딩"
      ],
      "metadata": {
        "id": "xs9hs43HawM6"
      }
    },
    {
      "cell_type": "code",
      "source": [
        "encoder_input = []\n",
        "\n",
        "# 1개의 문장\n",
        "for line in lines.src:\n",
        "  encoded_line = []\n",
        "  # 각 줄에서 1개의 char\n",
        "  for char in line:\n",
        "    # 각 char을 정수로 변환\n",
        "    encoded_line.append(src_to_index[char])\n",
        "  encoder_input.append(encoded_line)\n",
        "print('source 문장의 정수 인코딩 :',encoder_input[:5])"
      ],
      "metadata": {
        "colab": {
          "base_uri": "https://localhost:8080/"
        },
        "id": "VdbfWD-rmjq-",
        "outputId": "d6402c6c-6523-49d8-f8f9-b406c2783942"
      },
      "execution_count": null,
      "outputs": [
        {
          "output_type": "stream",
          "name": "stdout",
          "text": [
            "source 문장의 정수 인코딩 : [[30, 64, 10], [30, 64, 10], [30, 64, 10], [31, 58, 10], [31, 58, 10]]\n"
          ]
        }
      ]
    },
    {
      "cell_type": "code",
      "source": [
        "decoder_input = []\n",
        "for line in lines.tar:\n",
        "  encoded_line = []\n",
        "  for char in line:\n",
        "    encoded_line.append(tar_to_index[char])\n",
        "  decoder_input.append(encoded_line)\n",
        "print('target 문장의 정수 인코딩 :',decoder_input[:5])"
      ],
      "metadata": {
        "colab": {
          "base_uri": "https://localhost:8080/"
        },
        "id": "UtihvAeimpQc",
        "outputId": "c5ed0c3e-87e1-474e-90b9-79ece7149c23"
      },
      "execution_count": null,
      "outputs": [
        {
          "output_type": "stream",
          "name": "stdout",
          "text": [
            "target 문장의 정수 인코딩 : [[1, 3, 48, 53, 3, 4, 3, 2], [1, 3, 39, 53, 70, 55, 60, 57, 14, 3, 2], [1, 3, 28, 67, 73, 59, 57, 3, 4, 3, 2], [1, 3, 45, 53, 64, 73, 72, 3, 4, 3, 2], [1, 3, 45, 53, 64, 73, 72, 14, 3, 2]]\n"
          ]
        }
      ]
    },
    {
      "cell_type": "code",
      "source": [
        "decoder_target = []   # 다코더 예측값과 비교하기 위한 실제값이 필요        <sos>가 필요 없어서 정수 인코딩 과정에서 \\t삭제\n",
        "for line in lines.tar:\n",
        "  timestep = 0\n",
        "  encoded_line = []\n",
        "  for char in line:\n",
        "    if timestep > 0:\n",
        "      encoded_line.append(tar_to_index[char])\n",
        "    timestep = timestep + 1\n",
        "  decoder_target.append(encoded_line)\n",
        "print('target 문장 레이블의 정수 인코딩 :',decoder_target[:5])"
      ],
      "metadata": {
        "colab": {
          "base_uri": "https://localhost:8080/"
        },
        "id": "p5Cd719smr_n",
        "outputId": "fa424f40-1299-4290-f2d5-4796fd736cd2"
      },
      "execution_count": null,
      "outputs": [
        {
          "output_type": "stream",
          "name": "stdout",
          "text": [
            "target 문장 레이블의 정수 인코딩 : [[3, 48, 53, 3, 4, 3, 2], [3, 39, 53, 70, 55, 60, 57, 14, 3, 2], [3, 28, 67, 73, 59, 57, 3, 4, 3, 2], [3, 45, 53, 64, 73, 72, 3, 4, 3, 2], [3, 45, 53, 64, 73, 72, 14, 3, 2]]\n"
          ]
        }
      ]
    },
    {
      "cell_type": "code",
      "source": [
        "max_src_len = max([len(line) for line in lines.src])\n",
        "max_tar_len = max([len(line) for line in lines.tar])\n",
        "print('source 문장의 최대 길이 :',max_src_len)\n",
        "print('target 문장의 최대 길이 :',max_tar_len)"
      ],
      "metadata": {
        "colab": {
          "base_uri": "https://localhost:8080/"
        },
        "id": "v0-vfku8mulR",
        "outputId": "2c903088-ca4f-4b83-953d-814449fe93ac"
      },
      "execution_count": null,
      "outputs": [
        {
          "output_type": "stream",
          "name": "stdout",
          "text": [
            "source 문장의 최대 길이 : 23\n",
            "target 문장의 최대 길이 : 76\n"
          ]
        }
      ]
    },
    {
      "cell_type": "code",
      "source": [
        "encoder_input = pad_sequences(encoder_input, maxlen=max_src_len, padding='post')  # source 문장의 최대길이와 target 문장의 최대 길이에 맞춰 샘플들의 패딩을 진행\n",
        "decoder_input = pad_sequences(decoder_input, maxlen=max_tar_len, padding='post') \n",
        "decoder_target = pad_sequences(decoder_target, maxlen=max_tar_len, padding='post')"
      ],
      "metadata": {
        "id": "NcGE2bivm2NE"
      },
      "execution_count": null,
      "outputs": []
    },
    {
      "cell_type": "code",
      "source": [
        "encoder_input = to_categorical(encoder_input)\n",
        "decoder_input = to_categorical(decoder_input)\n",
        "decoder_target = to_categorical(decoder_target)"
      ],
      "metadata": {
        "id": "sInBo6P_m6hT"
      },
      "execution_count": null,
      "outputs": []
    },
    {
      "cell_type": "markdown",
      "source": [
        "### seq2seq 기계 번역기 훈련시키기"
      ],
      "metadata": {
        "id": "oUIsxfYccwTD"
      }
    },
    {
      "cell_type": "code",
      "source": [
        "from tensorflow.keras.layers import Input, LSTM, Embedding, Dense\n",
        "from tensorflow.keras.models import Model\n",
        "import numpy as np"
      ],
      "metadata": {
        "id": "OU_yPyX2m9ai"
      },
      "execution_count": null,
      "outputs": []
    },
    {
      "cell_type": "code",
      "source": [
        "encoder_inputs = Input(shape=(None, src_vocab_size))\n",
        "encoder_lstm = LSTM(units=256, return_state=True)\n",
        "\n",
        "# encoder_outputs은 여기서는 불필요\n",
        "encoder_outputs, state_h, state_c = encoder_lstm(encoder_inputs)\n",
        "\n",
        "# LSTM은 RNN과는 달리 상태가 두 개. 은닉 상태와 셀 상태.\n",
        "encoder_states = [state_h, state_c]"
      ],
      "metadata": {
        "id": "kmdQoTpBnMOx"
      },
      "execution_count": null,
      "outputs": []
    },
    {
      "cell_type": "code",
      "source": [
        "decoder_inputs = Input(shape=(None, tar_vocab_size))\n",
        "decoder_lstm = LSTM(units=256, return_sequences=True, return_state=True)\n",
        "\n",
        "# 디코더에게 인코더의 은닉 상태, 셀 상태를 전달.\n",
        "decoder_outputs, _, _= decoder_lstm(decoder_inputs, initial_state=encoder_states)\n",
        "\n",
        "decoder_softmax_layer = Dense(tar_vocab_size, activation='softmax')\n",
        "decoder_outputs = decoder_softmax_layer(decoder_outputs)\n",
        "\n",
        "model = Model([encoder_inputs, decoder_inputs], decoder_outputs)\n",
        "model.compile(optimizer=\"rmsprop\", loss=\"categorical_crossentropy\")"
      ],
      "metadata": {
        "id": "oNry-94bnRz1"
      },
      "execution_count": null,
      "outputs": []
    },
    {
      "cell_type": "code",
      "source": [
        "model.fit(x=[encoder_input, decoder_input], y=decoder_target, batch_size=64, epochs=40, validation_split=0.2)"
      ],
      "metadata": {
        "colab": {
          "base_uri": "https://localhost:8080/"
        },
        "id": "dfeTG0rdnUSG",
        "outputId": "75ea6837-ef86-4a60-c8ba-32571d05870f"
      },
      "execution_count": null,
      "outputs": [
        {
          "output_type": "stream",
          "name": "stdout",
          "text": [
            "Epoch 1/40\n",
            "750/750 [==============================] - 21s 20ms/step - loss: 0.7377 - val_loss: 0.6542\n",
            "Epoch 2/40\n",
            "750/750 [==============================] - 13s 18ms/step - loss: 0.4526 - val_loss: 0.5342\n",
            "Epoch 3/40\n",
            "750/750 [==============================] - 13s 18ms/step - loss: 0.3799 - val_loss: 0.4734\n",
            "Epoch 4/40\n",
            "750/750 [==============================] - 13s 18ms/step - loss: 0.3377 - val_loss: 0.4351\n",
            "Epoch 5/40\n",
            "750/750 [==============================] - 13s 18ms/step - loss: 0.3095 - val_loss: 0.4128\n",
            "Epoch 6/40\n",
            "750/750 [==============================] - 14s 18ms/step - loss: 0.2886 - val_loss: 0.3961\n",
            "Epoch 7/40\n",
            "750/750 [==============================] - 13s 18ms/step - loss: 0.2726 - val_loss: 0.3818\n",
            "Epoch 8/40\n",
            "750/750 [==============================] - 13s 18ms/step - loss: 0.2596 - val_loss: 0.3733\n",
            "Epoch 9/40\n",
            "750/750 [==============================] - 13s 18ms/step - loss: 0.2487 - val_loss: 0.3663\n",
            "Epoch 10/40\n",
            "750/750 [==============================] - 13s 18ms/step - loss: 0.2393 - val_loss: 0.3614\n",
            "Epoch 11/40\n",
            "750/750 [==============================] - 13s 18ms/step - loss: 0.2310 - val_loss: 0.3586\n",
            "Epoch 12/40\n",
            "750/750 [==============================] - 13s 18ms/step - loss: 0.2236 - val_loss: 0.3554\n",
            "Epoch 13/40\n",
            "750/750 [==============================] - 14s 19ms/step - loss: 0.2169 - val_loss: 0.3529\n",
            "Epoch 14/40\n",
            "750/750 [==============================] - 15s 20ms/step - loss: 0.2109 - val_loss: 0.3511\n",
            "Epoch 15/40\n",
            "750/750 [==============================] - 14s 18ms/step - loss: 0.2052 - val_loss: 0.3488\n",
            "Epoch 16/40\n",
            "750/750 [==============================] - 14s 19ms/step - loss: 0.2000 - val_loss: 0.3505\n",
            "Epoch 17/40\n",
            "750/750 [==============================] - 13s 18ms/step - loss: 0.1953 - val_loss: 0.3504\n",
            "Epoch 18/40\n",
            "750/750 [==============================] - 13s 18ms/step - loss: 0.1908 - val_loss: 0.3516\n",
            "Epoch 19/40\n",
            "750/750 [==============================] - 13s 18ms/step - loss: 0.1866 - val_loss: 0.3512\n",
            "Epoch 20/40\n",
            "750/750 [==============================] - 13s 18ms/step - loss: 0.1826 - val_loss: 0.3540\n",
            "Epoch 21/40\n",
            "750/750 [==============================] - 13s 18ms/step - loss: 0.1788 - val_loss: 0.3554\n",
            "Epoch 22/40\n",
            "750/750 [==============================] - 13s 18ms/step - loss: 0.1754 - val_loss: 0.3573\n",
            "Epoch 23/40\n",
            "750/750 [==============================] - 13s 18ms/step - loss: 0.1721 - val_loss: 0.3583\n",
            "Epoch 24/40\n",
            "750/750 [==============================] - 14s 18ms/step - loss: 0.1689 - val_loss: 0.3605\n",
            "Epoch 25/40\n",
            "750/750 [==============================] - 13s 18ms/step - loss: 0.1658 - val_loss: 0.3627\n",
            "Epoch 26/40\n",
            "750/750 [==============================] - 13s 18ms/step - loss: 0.1630 - val_loss: 0.3638\n",
            "Epoch 27/40\n",
            "750/750 [==============================] - 13s 18ms/step - loss: 0.1602 - val_loss: 0.3674\n",
            "Epoch 28/40\n",
            "750/750 [==============================] - 14s 18ms/step - loss: 0.1575 - val_loss: 0.3683\n",
            "Epoch 29/40\n",
            "750/750 [==============================] - 13s 18ms/step - loss: 0.1552 - val_loss: 0.3710\n",
            "Epoch 30/40\n",
            "750/750 [==============================] - 14s 18ms/step - loss: 0.1528 - val_loss: 0.3746\n",
            "Epoch 31/40\n",
            "750/750 [==============================] - 13s 18ms/step - loss: 0.1504 - val_loss: 0.3767\n",
            "Epoch 32/40\n",
            "750/750 [==============================] - 13s 18ms/step - loss: 0.1483 - val_loss: 0.3799\n",
            "Epoch 33/40\n",
            "750/750 [==============================] - 13s 18ms/step - loss: 0.1461 - val_loss: 0.3804\n",
            "Epoch 34/40\n",
            "750/750 [==============================] - 13s 18ms/step - loss: 0.1440 - val_loss: 0.3843\n",
            "Epoch 35/40\n",
            "750/750 [==============================] - 13s 18ms/step - loss: 0.1422 - val_loss: 0.3865\n",
            "Epoch 36/40\n",
            "750/750 [==============================] - 13s 18ms/step - loss: 0.1402 - val_loss: 0.3893\n",
            "Epoch 37/40\n",
            "750/750 [==============================] - 13s 18ms/step - loss: 0.1385 - val_loss: 0.3923\n",
            "Epoch 38/40\n",
            "750/750 [==============================] - 13s 18ms/step - loss: 0.1366 - val_loss: 0.3947\n",
            "Epoch 39/40\n",
            "750/750 [==============================] - 13s 18ms/step - loss: 0.1350 - val_loss: 0.3982\n",
            "Epoch 40/40\n",
            "750/750 [==============================] - 13s 17ms/step - loss: 0.1334 - val_loss: 0.4005\n"
          ]
        },
        {
          "output_type": "execute_result",
          "data": {
            "text/plain": [
              "<keras.callbacks.History at 0x7f9c6039e950>"
            ]
          },
          "metadata": {},
          "execution_count": 26
        }
      ]
    },
    {
      "cell_type": "markdown",
      "source": [
        "###  seq2seq 기계 번역기 동작시키기"
      ],
      "metadata": {
        "id": "jOH0l5s_c0co"
      }
    },
    {
      "cell_type": "code",
      "source": [
        "encoder_model = Model(inputs=encoder_inputs, outputs=encoder_states)"
      ],
      "metadata": {
        "id": "zcUQjbAgnWAu"
      },
      "execution_count": null,
      "outputs": []
    },
    {
      "cell_type": "code",
      "source": [
        "# 이전 시점의 상태들을 저장하는 텐서\n",
        "decoder_state_input_h = Input(shape=(256,))\n",
        "decoder_state_input_c = Input(shape=(256,))\n",
        "decoder_states_inputs = [decoder_state_input_h, decoder_state_input_c]\n",
        "\n",
        "# 문장의 다음 단어를 예측하기 위해서 초기 상태(initial_state)를 이전 시점의 상태로 사용.\n",
        "# 뒤의 함수 decode_sequence()에 동작을 구현 예정\n",
        "decoder_outputs, state_h, state_c = decoder_lstm(decoder_inputs, initial_state=decoder_states_inputs)\n",
        "\n",
        "# 훈련 과정에서와 달리 LSTM의 리턴하는 은닉 상태와 셀 상태를 버리지 않음.\n",
        "decoder_states = [state_h, state_c]\n",
        "decoder_outputs = decoder_softmax_layer(decoder_outputs)\n",
        "decoder_model = Model(inputs=[decoder_inputs] + decoder_states_inputs, outputs=[decoder_outputs] + decoder_states)"
      ],
      "metadata": {
        "id": "NHamgGaIoFEx"
      },
      "execution_count": null,
      "outputs": []
    },
    {
      "cell_type": "code",
      "source": [
        "index_to_src = dict((i, char) for char, i in src_to_index.items())\n",
        "index_to_tar = dict((i, char) for char, i in tar_to_index.items())"
      ],
      "metadata": {
        "id": "kV6J4ZrMoFHP"
      },
      "execution_count": null,
      "outputs": []
    },
    {
      "cell_type": "code",
      "source": [
        "def decode_sequence(input_seq):\n",
        "  # 입력으로부터 인코더의 상태를 얻음\n",
        "  states_value = encoder_model.predict(input_seq)\n",
        "\n",
        "  # <SOS>에 해당하는 원-핫 벡터 생성\n",
        "  target_seq = np.zeros((1, 1, tar_vocab_size))\n",
        "  target_seq[0, 0, tar_to_index['\\t']] = 1.\n",
        "\n",
        "  stop_condition = False\n",
        "  decoded_sentence = \"\"\n",
        "\n",
        "  # stop_condition이 True가 될 때까지 루프 반복\n",
        "  while not stop_condition:\n",
        "    # 이점 시점의 상태 states_value를 현 시점의 초기 상태로 사용\n",
        "    output_tokens, h, c = decoder_model.predict([target_seq] + states_value)\n",
        "\n",
        "    # 예측 결과를 문자로 변환\n",
        "    sampled_token_index = np.argmax(output_tokens[0, -1, :])\n",
        "    sampled_char = index_to_tar[sampled_token_index]\n",
        "\n",
        "    # 현재 시점의 예측 문자를 예측 문장에 추가\n",
        "    decoded_sentence += sampled_char\n",
        "\n",
        "    # <eos>에 도달하거나 최대 길이를 넘으면 중단.\n",
        "    if (sampled_char == '\\n' or\n",
        "        len(decoded_sentence) > max_tar_len):\n",
        "        stop_condition = True\n",
        "\n",
        "    # 현재 시점의 예측 결과를 다음 시점의 입력으로 사용하기 위해 저장\n",
        "    target_seq = np.zeros((1, 1, tar_vocab_size))\n",
        "    target_seq[0, 0, sampled_token_index] = 1.\n",
        "\n",
        "    # 현재 시점의 상태를 다음 시점의 상태로 사용하기 위해 저장\n",
        "    states_value = [h, c]\n",
        "\n",
        "  return decoded_sentence"
      ],
      "metadata": {
        "id": "fEQ98VQAoI_o"
      },
      "execution_count": null,
      "outputs": []
    },
    {
      "cell_type": "code",
      "source": [
        "for seq_index in [40,30,500,600,141]: # 입력 문장의 인덱스\n",
        "  input_seq = encoder_input[seq_index:seq_index+1]\n",
        "  decoded_sentence = decode_sequence(input_seq)\n",
        "  print(35 * \"-\")\n",
        "  print('입력 문장:', lines.src[seq_index])\n",
        "  print('정답 문장:', lines.tar[seq_index][2:len(lines.tar[seq_index])-1]) # '\\t'와 '\\n'을 빼고 출력\n",
        "  print('번역 문장:', decoded_sentence[1:len(decoded_sentence)-1]) # '\\n'을 빼고 출력"
      ],
      "metadata": {
        "colab": {
          "base_uri": "https://localhost:8080/"
        },
        "id": "utqipURkoKxJ",
        "outputId": "16afeab7-cc85-4212-85da-51e5b60dbee1"
      },
      "execution_count": null,
      "outputs": [
        {
          "output_type": "stream",
          "name": "stdout",
          "text": [
            "-----------------------------------\n",
            "입력 문장: Hi.\n",
            "정답 문장: Salut ! \n",
            "번역 문장: Salut ! \n",
            "-----------------------------------\n",
            "입력 문장: Hello!\n",
            "정답 문장: Salut ! \n",
            "번역 문장: À le part ! \n",
            "-----------------------------------\n",
            "입력 문장: Hop in.\n",
            "정답 문장: Montez. \n",
            "번역 문장: Montez. \n",
            "-----------------------------------\n",
            "입력 문장: Help me!\n",
            "정답 문장: Aide-moi ! \n",
            "번역 문장: Aide-nous ! \n",
            "-----------------------------------\n",
            "입력 문장: Humor Tom.\n",
            "정답 문장: Mettez Tom de bonne humeur. \n",
            "번역 문장: Mettez Tom de l'extrene. \n"
          ]
        }
      ]
    },
    {
      "cell_type": "markdown",
      "source": [
        "- 참고 : https://wikidocs.net/24996"
      ],
      "metadata": {
        "id": "0qVjpMtKsiqm"
      }
    }
  ],
  "metadata": {
    "kernelspec": {
      "display_name": "Python 3",
      "language": "python",
      "name": "python3"
    },
    "language_info": {
      "codemirror_mode": {
        "name": "ipython",
        "version": 3
      },
      "file_extension": ".py",
      "mimetype": "text/x-python",
      "name": "python",
      "nbconvert_exporter": "python",
      "pygments_lexer": "ipython3",
      "version": "3.8.5"
    },
    "colab": {
      "provenance": [],
      "collapsed_sections": []
    },
    "accelerator": "GPU",
    "gpuClass": "standard"
  },
  "nbformat": 4,
  "nbformat_minor": 0
}